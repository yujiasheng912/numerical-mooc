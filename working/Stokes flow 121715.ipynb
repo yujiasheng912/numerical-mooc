{
 "cells": [
  {
   "cell_type": "code",
   "execution_count": 1,
   "metadata": {
    "collapsed": true
   },
   "outputs": [],
   "source": [
    "from matplotlib import pyplot, cm\n",
    "from math import pi\n",
    "import numpy\n",
    "%matplotlib inline\n",
    "from matplotlib import rcParams\n",
    "rcParams['font.family'] = 'serif'\n",
    "rcParams['font.size'] = 16"
   ]
  },
  {
   "cell_type": "code",
   "execution_count": 2,
   "metadata": {
    "collapsed": true
   },
   "outputs": [],
   "source": [
    "nx = 41\n",
    "ny = 41\n",
    "\n",
    "l = 1.\n",
    "h = 1.\n",
    "\n",
    "dx = l/(nx-1)\n",
    "dy = h/(ny-1)\n",
    "\n",
    "x=numpy.linspace(0,l,nx)\n",
    "y=numpy.linspace(0,h,ny)\n",
    "\n",
    "omegai=numpy.zeros((ny,nx))\n",
    "psii=numpy.zeros((ny,nx))\n",
    "\n",
    "l1_target = 1e-6"
   ]
  },
  {
   "cell_type": "code",
   "execution_count": 3,
   "metadata": {
    "collapsed": true
   },
   "outputs": [],
   "source": [
    "def L1norm(new, old):\n",
    "    norm = numpy.sum(numpy.abs(new-old))\n",
    "    return norm"
   ]
  },
  {
   "cell_type": "code",
   "execution_count": 4,
   "metadata": {
    "collapsed": false
   },
   "outputs": [],
   "source": [
    "def stokes(omega,psi,dx,dy,l1_target):\n",
    "    l1norm=1.\n",
    "    omegan=numpy.empty_like(omega)\n",
    "    psin=numpy.empty_like(psi)\n",
    "    uj=numpy.ones(nx)\n",
    "    iterations=1\n",
    "    while l1norm>l1_target:\n",
    "        omegan = omega.copy()\n",
    "        psin=psi.copy()\n",
    "        \n",
    "        psi[1:-1,1:-1]=((psin[2:,1:-1]+psin[:-2,1:-1])*dx**2+(psin[1:-1,2:]+psin[1:-1,:-2])*dy**2+omega[1:-1,1:-1]*dx**2*dy**2)/(2.*(dx**2+dy**2))      \n",
    "        omega[1:-1,1:-1]=((omegan[2:,1:-1]+omegan[:-2, 1:-1])*dx**2+(omegan[1:-1,2:]+omegan[1:-1,:-2])*dy**2)/(2*(dx**2+dy**2))\n",
    "        \n",
    "        #B.C.\n",
    "        omega[-1,:]=-.5/(dy**2)*(8.*psi[-2,:]-psi[-3,:])-3.*uj/dy\n",
    "        omega[0,:]=-.5/(dy**2)*(8.*psi[1,:]-psi[2,:])\n",
    "        omega[:,-1]=-.5/(dx**2)*(8.*psi[:,-2]-psi[:,-3])\n",
    "        omega[:,0]=-.5/(dx**2)*(8.*psi[:,1]-psi[:,2])\n",
    "        \n",
    "        l1norm=max(L1norm(omega,omegan),L1norm(psi,psin))\n",
    "        iterations+=1\n",
    "    return numpy.array([omega,psi])"
   ]
  },
  {
   "cell_type": "code",
   "execution_count": 5,
   "metadata": {
    "collapsed": false
   },
   "outputs": [],
   "source": [
    "A=stokes(omegai.copy(),psii.copy(),dx,dy,1e-6)\n",
    "omega=A[0]\n",
    "psi=A[1]"
   ]
  },
  {
   "cell_type": "code",
   "execution_count": 6,
   "metadata": {
    "collapsed": false
   },
   "outputs": [
    {
     "data": {
      "text/plain": [
       "<matplotlib.contour.QuadContourSet at 0x7f05a55fe908>"
      ]
     },
     "execution_count": 6,
     "metadata": {},
     "output_type": "execute_result"
    },
    {
     "data": {
      "image/png": "[encoded data removed]",
      "text/plain": [
       "<matplotlib.figure.Figure at 0x7f05e41eb358>"
      ]
     },
     "metadata": {},
     "output_type": "display_data"
    }
   ],
   "source": [
    "pyplot.figure(figsize=(8,8))\n",
    "pyplot.contourf(x,y,psi,10,cmap=cm.viridis)"
   ]
  },
  {
   "cell_type": "code",
   "execution_count": 7,
   "metadata": {
    "collapsed": false
   },
   "outputs": [
    {
     "data": {
      "text/plain": [
       "0.099845172462224088"
      ]
     },
     "execution_count": 7,
     "metadata": {},
     "output_type": "execute_result"
    }
   ],
   "source": [
    "numpy.abs(psi).max()"
   ]
  },
  {
   "cell_type": "code",
   "execution_count": 8,
   "metadata": {
    "collapsed": false
   },
   "outputs": [
    {
     "data": {
      "text/plain": [
       "78.192661228600699"
      ]
     },
     "execution_count": 8,
     "metadata": {},
     "output_type": "execute_result"
    }
   ],
   "source": [
    "numpy.abs(omega).max()"
   ]
  },
  {
   "cell_type": "code",
   "execution_count": 9,
   "metadata": {
    "collapsed": false
   },
   "outputs": [
    {
     "data": {
      "text/plain": [
       "array([ 0.    , -0.0575, -0.0944, -0.0944, -0.0575,  0.    ])"
      ]
     },
     "execution_count": 9,
     "metadata": {},
     "output_type": "execute_result"
    }
   ],
   "source": [
    "numpy.round(psi[32,::8],4)"
   ]
  },
  {
   "cell_type": "code",
   "execution_count": null,
   "metadata": {
    "collapsed": true
   },
   "outputs": [],
   "source": []
  }
 ],
 "metadata": {
  "kernelspec": {
   "display_name": "Python 3",
   "language": "python",
   "name": "python3"
  },
  "language_info": {
   "codemirror_mode": {
    "name": "ipython",
    "version": 3
   },
   "file_extension": ".py",
   "mimetype": "text/x-python",
   "name": "python",
   "nbconvert_exporter": "python",
   "pygments_lexer": "ipython3",
   "version": "3.4.3"
  }
 },
 "nbformat": 4,
 "nbformat_minor": 0
}
