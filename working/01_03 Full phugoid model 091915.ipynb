{
 "cells": [
  {
   "cell_type": "code",
   "execution_count": 2,
   "metadata": {
    "collapsed": true
   },
   "outputs": [],
   "source": [
    "from math import sin,cos,log,ceil\n",
    "import numpy\n",
    "from matplotlib import pyplot\n",
    "%matplotlib inline\n",
    "from matplotlib import rcParams\n",
    "rcParams['font.family']='serif'\n",
    "rcParams['font.size']=16"
   ]
  },
  {
   "cell_type": "code",
   "execution_count": 1,
   "metadata": {
    "collapsed": false
   },
   "outputs": [],
   "source": [
    "g=9.8\n",
    "v_t=4.9\n",
    "C_D=.2\n",
    "C_L=1\n",
    "v0=v_t\n",
    "\n",
    "x0=0\n",
    "y0=5"
   ]
  },
  {
   "cell_type": "code",
   "execution_count": 3,
   "metadata": {
    "collapsed": true
   },
   "outputs": [],
   "source": [
    "def f(u):\n",
    "    v=u[0]\n",
    "    theta=u[1]\n",
    "    x=u[2]\n",
    "    y=u[3]\n",
    "    return numpy.array([-g*sin(theta)-C_D/C_L*g/v_t**2*v**2,-g*cos(theta)/v+g/v_t**2*v,v*cos(theta),v*sin(theta)])"
   ]
  },
  {
   "cell_type": "code",
   "execution_count": 4,
   "metadata": {
    "collapsed": true
   },
   "outputs": [],
   "source": [
    "def euler_step(u,f,dt):\n",
    "    return u+dt*f(u)"
   ]
  },
  {
   "cell_type": "code",
   "execution_count": 5,
   "metadata": {
    "collapsed": false
   },
   "outputs": [],
   "source": [
    "T=30\n",
    "dt=0.001\n",
    "N=int(T/dt)+1\n",
    "t=numpy.linspace(0,T,N)\n",
    "u=numpy.empty((N,4))"
   ]
  },
  {
   "cell_type": "code",
   "execution_count": 6,
   "metadata": {
    "collapsed": false
   },
   "outputs": [
    {
     "name": "stdout",
     "output_type": "stream",
     "text": [
      "25.4927245991 0.0\n",
      "25.506372892 1.0\n",
      "25.5144077992 2.0\n",
      "25.526293835 3.0\n",
      "25.5278332051 4.0\n",
      "25.5332187614 5.0\n"
     ]
    }
   ],
   "source": [
    "x_max=0\n",
    "theta_max=0\n",
    "ground=0\n",
    "for theta0 in range (0,90,):\n",
    "    theta0=theta0/180*numpy.pi\n",
    "    u[0]=numpy.array([v0,theta0,x0,y0])\n",
    "    for n in range(N-1):\n",
    "        u[n+1]=euler_step(u[n],f,dt)\n",
    "    x=u[:,2]\n",
    "    y=u[:,3]\n",
    "    y_ground=numpy.where(y<0)[0]\n",
    "    if len(y_ground)==0:\n",
    "        print('Not reaching ground!')\n",
    "    else:\n",
    "        ground=y_ground[0]\n",
    "    if x[ground]>x_max:\n",
    "        x_max=x[ground]\n",
    "        theta_max=theta0\n",
    "        print(x_max,theta_max/numpy.pi*180)\n",
    "    else:\n",
    "        break"
   ]
  },
  {
   "cell_type": "code",
   "execution_count": null,
   "metadata": {
    "collapsed": true
   },
   "outputs": [],
   "source": [
    "u[0]=numpy.array([v0,theta0,x0,y0])\n",
    "for n in range(N-1):\n",
    "    u[n+1]=euler_step(u[n],f,dt)"
   ]
  },
  {
   "cell_type": "code",
   "execution_count": null,
   "metadata": {
    "collapsed": false
   },
   "outputs": [],
   "source": [
    "theta0_values=numpy.array([0,numpy.pi*.25,numpy.pi*.5,numpy.pi*0.75])\n",
    "u_values=numpy.empty_like(theta0_values,dtype=numpy.ndarray)\n",
    "for j,theta0 in enumerate(theta0_values):\n",
    "    u=numpy.empty((N,4))\n",
    "    u[0]=numpy.array([v0,theta0,x0,y0])\n",
    "    u_values[j]=euler(u,dt,theta0_values[j])"
   ]
  },
  {
   "cell_type": "code",
   "execution_count": 7,
   "metadata": {
    "collapsed": false
   },
   "outputs": [
    {
     "data": {
      "image/png": "[encoded data removed]",
      "text/plain": [
       "<matplotlib.figure.Figure at 0x7007a20>"
      ]
     },
     "metadata": {},
     "output_type": "display_data"
    }
   ],
   "source": [
    "pyplot.figure(figsize=(8,6))\n",
    "pyplot.grid(True)\n",
    "pyplot.xlabel(r'x',fontsize=18)\n",
    "pyplot.ylabel(r'y',fontsize=18)\n",
    "pyplot.title('Glider trajectory, flight time=%.2f'%T,fontsize=18)\n",
    "pyplot.plot(x,y,'k-',lw=2);"
   ]
  },
  {
   "cell_type": "code",
   "execution_count": 8,
   "metadata": {
    "collapsed": false
   },
   "outputs": [],
   "source": [
    "dt_values=numpy.array([0.1,0.05,0.01,0.005,0.0001])\n",
    "u_values=numpy.empty_like(dt_values,dtype=numpy.ndarray)\n",
    "for i,dt in enumerate(dt_values):\n",
    "    N=int(T/dt)+1\n",
    "    t=numpy.linspace(0.0,T,N)\n",
    "    u=numpy.empty((N,4))\n",
    "    u[0]=numpy.array([v0,theta0,x0,y0])\n",
    "    for n in range(N-1):\n",
    "        u[n+1]=euler_step(u[n],f,dt)\n",
    "    u_values[i]=u"
   ]
  },
  {
   "cell_type": "code",
   "execution_count": 9,
   "metadata": {
    "collapsed": true
   },
   "outputs": [],
   "source": [
    "def get_diffgrid(u_current,u_fine,dt):\n",
    "    N_current=len(u_current[:,0])\n",
    "    N_fine=len(u_fine[:,0])\n",
    "    grid_size_ratio=ceil(N_fine/N_current)\n",
    "    diffgrid=dt*numpy.sum(numpy.abs(u_current[:,2]-u_fine[::grid_size_ratio,2]))\n",
    "    return diffgrid"
   ]
  },
  {
   "cell_type": "code",
   "execution_count": 10,
   "metadata": {
    "collapsed": false
   },
   "outputs": [
    {
     "name": "stdout",
     "output_type": "stream",
     "text": [
      "dt = 0.1\n",
      "dt = 0.05\n",
      "dt = 0.01\n",
      "dt = 0.005\n",
      "dt = 0.0001\n"
     ]
    }
   ],
   "source": [
    "diffgrid=numpy.empty_like(dt_values)\n",
    "for i,dt in enumerate(dt_values):\n",
    "    print('dt = {}'.format(dt))\n",
    "    diffgrid[i]=get_diffgrid(u_values[i],u_values[-1],dt)"
   ]
  },
  {
   "cell_type": "code",
   "execution_count": 11,
   "metadata": {
    "collapsed": false
   },
   "outputs": [
    {
     "data": {
      "image/png": "[encoded data removed]",
      "text/plain": [
       "<matplotlib.figure.Figure at 0x77a0a90>"
      ]
     },
     "metadata": {},
     "output_type": "display_data"
    }
   ],
   "source": [
    "pyplot.figure(figsize=(6,6))\n",
    "pyplot.grid(True)\n",
    "pyplot.xlabel('$\\Delta t$',fontsize=18)\n",
    "pyplot.ylabel('$L_1$-norm of the grid differences',fontsize=18)\n",
    "pyplot.axis('equal')\n",
    "pyplot.loglog(dt_values[:-1],diffgrid[:-1],color='k',ls='-',lw=2,marker='o');"
   ]
  },
  {
   "cell_type": "code",
   "execution_count": null,
   "metadata": {
    "collapsed": true
   },
   "outputs": [],
   "source": []
  }
 ],
 "metadata": {
  "kernelspec": {
   "display_name": "Python 3",
   "language": "python",
   "name": "python3"
  },
  "language_info": {
   "codemirror_mode": {
    "name": "ipython",
    "version": 3
   },
   "file_extension": ".py",
   "mimetype": "text/x-python",
   "name": "python",
   "nbconvert_exporter": "python",
   "pygments_lexer": "ipython3",
   "version": "3.4.3"
  }
 },
 "nbformat": 4,
 "nbformat_minor": 0
}
