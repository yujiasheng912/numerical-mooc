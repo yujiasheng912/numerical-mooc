{
 "cells": [
  {
   "cell_type": "code",
   "execution_count": 1,
   "metadata": {
    "collapsed": true
   },
   "outputs": [],
   "source": [
    "import numpy\n",
    "%matplotlib inline\n",
    "from matplotlib import pyplot\n",
    "from matplotlib import rcParams\n",
    "rcParams['font.family']='serif'\n",
    "rcParams['font.size']=16"
   ]
  },
  {
   "cell_type": "code",
   "execution_count": 2,
   "metadata": {
    "collapsed": true
   },
   "outputs": [],
   "source": [
    "def computef1(u1,u2,u3):\n",
    "    return u2"
   ]
  },
  {
   "cell_type": "code",
   "execution_count": 3,
   "metadata": {
    "collapsed": true
   },
   "outputs": [],
   "source": [
    "def computef2(u1,u2,u3):\n",
    "    return u2**2/u1+(gamma-1)*(u3-.5*u2**2/u1)"
   ]
  },
  {
   "cell_type": "code",
   "execution_count": 4,
   "metadata": {
    "collapsed": true
   },
   "outputs": [],
   "source": [
    "def computef3(u1,u2,u3):\n",
    "    return (u3+(gamma-1)*(u3-.5*u2**2/u1))*u2/u1"
   ]
  },
  {
   "cell_type": "code",
   "execution_count": 5,
   "metadata": {
    "collapsed": true
   },
   "outputs": [],
   "source": [
    "def rho_initial(nx):\n",
    "    rho=numpy.ones(nx)\n",
    "    rho[(nx-1)/2.:]=.125\n",
    "    return rho"
   ]
  },
  {
   "cell_type": "code",
   "execution_count": 6,
   "metadata": {
    "collapsed": true
   },
   "outputs": [],
   "source": [
    "def v_initial(nx):\n",
    "    v=numpy.zeros(nx)\n",
    "    return v"
   ]
  },
  {
   "cell_type": "code",
   "execution_count": 7,
   "metadata": {
    "collapsed": true
   },
   "outputs": [],
   "source": [
    "def p_initial(nx):\n",
    "    p=numpy.ones(nx)*100000.0\n",
    "    p[(nx-1)/2.:]=10000.0\n",
    "    return p"
   ]
  },
  {
   "cell_type": "code",
   "execution_count": 8,
   "metadata": {
    "collapsed": true
   },
   "outputs": [],
   "source": [
    "def predictor(u,f,dx,dt):\n",
    "    return .5*(u[1:]+u[:-1])-dt/(2*dx)*(f[1:]-f[:-1])"
   ]
  },
  {
   "cell_type": "code",
   "execution_count": 9,
   "metadata": {
    "collapsed": true
   },
   "outputs": [],
   "source": [
    "def corrector(u,f_med,dx,dt):\n",
    "    return u[1:]-dt/dx*(f_med[1:]-f_med[:-1])"
   ]
  },
  {
   "cell_type": "code",
   "execution_count": 10,
   "metadata": {
    "collapsed": true
   },
   "outputs": [],
   "source": [
    "nx=81\n",
    "dx=.25\n",
    "dt=.0002\n",
    "gamma=1.4\n",
    "t=.01\n",
    "nt=int(t/dt)+1\n",
    "x=numpy.linspace(-10,10,nx)"
   ]
  },
  {
   "cell_type": "code",
   "execution_count": 11,
   "metadata": {
    "collapsed": false
   },
   "outputs": [
    {
     "name": "stderr",
     "output_type": "stream",
     "text": [
      "C:\\Users\\yujia\\Anaconda3\\lib\\site-packages\\ipykernel\\__main__.py:3: DeprecationWarning: using a non-integer number instead of an integer will result in an error in the future\n",
      "  app.launch_new_instance()\n"
     ]
    }
   ],
   "source": [
    "rho=rho_initial(nx)\n",
    "p=p_initial(nx)\n",
    "v=v_initial(nx)\n",
    "et=numpy.zeros(nx)\n",
    "et=p/((gamma-1)*rho)+.5*v**2\n",
    "u1=rho\n",
    "u2=rho*v\n",
    "u3=rho*et"
   ]
  },
  {
   "cell_type": "code",
   "execution_count": 12,
   "metadata": {
    "collapsed": true
   },
   "outputs": [],
   "source": [
    "def richtmyer(u1,u2,u3,nt,nx,dt,dx):\n",
    "    u1_n=numpy.zeros((nt,nx))\n",
    "    u2_n=numpy.zeros((nt,nx))\n",
    "    u3_n=numpy.zeros((nt,nx))\n",
    "    u1_med=numpy.empty_like(u1)\n",
    "    u2_med=numpy.empty_like(u2)\n",
    "    u3_med=numpy.empty_like(u3)\n",
    "    u1_med=u1.copy()\n",
    "    u2_med=u2.copy()\n",
    "    u3_med=u3.copy()\n",
    "    u1_n[:,:]=u1.copy()\n",
    "    u2_n[:,:]=u2.copy()\n",
    "    u3_n[:,:]=u3.copy()\n",
    "    for n in range(1,nt):\n",
    "        f1=computef1(u1,u2,u3)\n",
    "        f2=computef2(u1,u2,u3)\n",
    "        f3=computef3(u1,u2,u3)\n",
    "        u1_med[:-1]=predictor(u1,f1,dx,dt)\n",
    "        u2_med[:-1]=predictor(u2,f2,dx,dt)\n",
    "        u3_med[:-1]=predictor(u3,f3,dx,dt)\n",
    "        f1_med=computef1(u1_med,u2_med,u3_med)\n",
    "        f2_med=computef2(u1_med,u2_med,u3_med)\n",
    "        f3_med=computef3(u1_med,u2_med,u3_med)\n",
    "        u1_n[n,1:]=corrector(u1,f1_med,dx,dt)\n",
    "        u2_n[n,1:]=corrector(u2,f2_med,dx,dt)\n",
    "        u3_n[n,1:]=corrector(u3,f3_med,dx,dt)\n",
    "        u1=u1_n[n].copy()\n",
    "        u2=u2_n[n].copy()\n",
    "        u3=u3_n[n].copy()\n",
    "        u=numpy.array([u1_n,u2_n,u3_n])\n",
    "    return u"
   ]
  },
  {
   "cell_type": "code",
   "execution_count": 13,
   "metadata": {
    "collapsed": false
   },
   "outputs": [],
   "source": [
    "un=numpy.empty((3,nt,nx))\n",
    "un=richtmyer(u1,u2,u3,nt,nx,dt,dx)"
   ]
  },
  {
   "cell_type": "code",
   "execution_count": 14,
   "metadata": {
    "collapsed": false
   },
   "outputs": [
    {
     "name": "stdout",
     "output_type": "stream",
     "text": [
      "The velocity at x=2.5 m is 292.61.\n",
      "The pressure at x=2.5 m is 30250.89.\n",
      "The density at x=2.5 m is 0.37.\n"
     ]
    }
   ],
   "source": [
    "u1_t=un[0,int(t/dt),int((2.5+10)/dx)]\n",
    "u2_t=un[1,int(t/dt),int((2.5+10)/dx)]\n",
    "u3_t=un[2,int(t/dt),int((2.5+10)/dx)]\n",
    "rho_t=u1_t\n",
    "v_t=u2_t/u1_t\n",
    "et_t=u3_t/u1_t\n",
    "p_t=(et_t-.5*v_t**2)*rho_t*(gamma-1)\n",
    "print('The velocity at x=2.5 m is {:.2f}.'.format(v_t))\n",
    "print('The pressure at x=2.5 m is {:.2f}.'.format(p_t))\n",
    "print('The density at x=2.5 m is {:.2f}.'.format(rho_t))"
   ]
  },
  {
   "cell_type": "code",
   "execution_count": null,
   "metadata": {
    "collapsed": true
   },
   "outputs": [],
   "source": []
  }
 ],
 "metadata": {
  "kernelspec": {
   "display_name": "Python 3",
   "language": "python",
   "name": "python3"
  },
  "language_info": {
   "codemirror_mode": {
    "name": "ipython",
    "version": 3
   },
   "file_extension": ".py",
   "mimetype": "text/x-python",
   "name": "python",
   "nbconvert_exporter": "python",
   "pygments_lexer": "ipython3",
   "version": "3.4.3"
  }
 },
 "nbformat": 4,
 "nbformat_minor": 0
}
