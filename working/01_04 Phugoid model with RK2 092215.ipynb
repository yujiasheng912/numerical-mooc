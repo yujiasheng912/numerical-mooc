{
 "cells": [
  {
   "cell_type": "code",
   "execution_count": 1,
   "metadata": {
    "collapsed": false
   },
   "outputs": [],
   "source": [
    "from math import sin,cos,log,ceil\n",
    "import numpy\n",
    "from matplotlib import pyplot\n",
    "%matplotlib inline\n",
    "from matplotlib import rcParams\n",
    "rcParams ['font.family']='serif'\n",
    "rcParams ['font.size']=16"
   ]
  },
  {
   "cell_type": "code",
   "execution_count": 2,
   "metadata": {
    "collapsed": true
   },
   "outputs": [],
   "source": [
    "g=9.8\n",
    "v_t=4.9\n",
    "C_D=1/5.0\n",
    "C_L=1.0\n",
    "v0=6.5\n",
    "theta0=-0.1\n",
    "x0=0.0\n",
    "y0=25.0"
   ]
  },
  {
   "cell_type": "code",
   "execution_count": 3,
   "metadata": {
    "collapsed": true
   },
   "outputs": [],
   "source": [
    "def f(u):\n",
    "    v=u[0]\n",
    "    theta=u[1]\n",
    "    x0=u[2]\n",
    "    y0=u[3]\n",
    "    return numpy.array([-g*sin(theta)-C_D/C_L*g/v_t**2*v**2,-g*cos(theta)/v+g/v_t**2*v,v*cos(theta),v*sin(theta)])"
   ]
  },
  {
   "cell_type": "code",
   "execution_count": 4,
   "metadata": {
    "collapsed": true
   },
   "outputs": [],
   "source": [
    "def euler_step(u,f,dt):\n",
    "    return u+dt*f(u)"
   ]
  },
  {
   "cell_type": "code",
   "execution_count": 5,
   "metadata": {
    "collapsed": true
   },
   "outputs": [],
   "source": [
    "def get_diffgrid(u_current,u_fine,dt):\n",
    "    N_current=len(u_current[:,0])\n",
    "    N_fine=len(u_fine[:,0])\n",
    "    grid_size_ratio=ceil(N_fine/N_current)\n",
    "    diffgrid=dt*numpy.sum(numpy.abs(u_current[:,2]-u_fine[::grid_size_ratio,2]))\n",
    "    return diffgrid"
   ]
  },
  {
   "cell_type": "code",
   "execution_count": 6,
   "metadata": {
    "collapsed": true
   },
   "outputs": [],
   "source": [
    "def rk2_step(u,f,dt):\n",
    "    u_star=u+0.5*dt*f(u)\n",
    "    return u+dt*f(u_star)"
   ]
  },
  {
   "cell_type": "code",
   "execution_count": 7,
   "metadata": {
    "collapsed": false
   },
   "outputs": [],
   "source": [
    "T=36.0\n",
    "dt=0.01\n",
    "N=int(T/dt)+1\n",
    "u_euler=numpy.empty((N,4))\n",
    "u_rk2=numpy.empty((N,4))\n",
    "u_euler[0]=numpy.array([v0,theta0,x0,y0])\n",
    "u_rk2[0]=numpy.array([v0,theta0,x0,y0])"
   ]
  },
  {
   "cell_type": "code",
   "execution_count": 8,
   "metadata": {
    "collapsed": true
   },
   "outputs": [],
   "source": [
    "import time"
   ]
  },
  {
   "cell_type": "code",
   "execution_count": 15,
   "metadata": {
    "collapsed": false
   },
   "outputs": [
    {
     "name": "stdout",
     "output_type": "stream",
     "text": [
      "0.06868473051815016\n"
     ]
    }
   ],
   "source": [
    "starttime1=time.clock()\n",
    "for n in range(N-1):\n",
    "    u_euler[n+1]=euler_step(u_euler[n],f,dt)\n",
    "endtime1=time.clock()\n",
    "print(endtime1-starttime1)"
   ]
  },
  {
   "cell_type": "code",
   "execution_count": 16,
   "metadata": {
    "collapsed": false
   },
   "outputs": [
    {
     "name": "stdout",
     "output_type": "stream",
     "text": [
      "0.14699148153333041\n"
     ]
    }
   ],
   "source": [
    "starttime2=time.clock()\n",
    "for n in range(N-1):\n",
    "    u_rk2[n+1]=rk2_step(u_rk2[n],f,dt)\n",
    "endtime2=time.clock()\n",
    "print(endtime2-starttime2)"
   ]
  },
  {
   "cell_type": "code",
   "execution_count": null,
   "metadata": {
    "collapsed": false
   },
   "outputs": [],
   "source": [
    "x_euler=u_euler[:,2]\n",
    "y_euler=u_euler[:,3]\n",
    "x_rk2=u_rk2[:,2]\n",
    "y_rk2=u_rk2[:,3]"
   ]
  },
  {
   "cell_type": "code",
   "execution_count": null,
   "metadata": {
    "collapsed": false
   },
   "outputs": [],
   "source": [
    "idx_negative_euler=numpy.where(y_euler<0.0)[0]\n",
    "if len(idx_negative_euler)==0:\n",
    "    idx_ground_euler=N-1\n",
    "    print('Euler intergration has not touched ground yet!')\n",
    "else:\n",
    "    idx_ground_euler=idx_negative_euler=idx_negative_euler[0]\n",
    "\n",
    "idx_negative_rk2=numpy.where(y_rk2<0.0)[0]\n",
    "if len(idx_negative_rk2)==0:\n",
    "    idx_ground_rk2=N-1\n",
    "    print('Runge-Kutta integration has not touched ground yet!')\n",
    "else:\n",
    "    idx_ground_rk2=idx_negative_rk2[0]"
   ]
  },
  {
   "cell_type": "code",
   "execution_count": null,
   "metadata": {
    "collapsed": false
   },
   "outputs": [],
   "source": [
    "print('Are the x-values close? {}'.format(numpy.allclose(x_euler,x_rk2)))\n",
    "print('Are the y-values close? {}'.format(numpy.allclose(y_euler,y_rk2)))"
   ]
  },
  {
   "cell_type": "code",
   "execution_count": null,
   "metadata": {
    "collapsed": false
   },
   "outputs": [],
   "source": [
    "pyplot.figure(figsize=(10,6))\n",
    "pyplot.subplot(121)\n",
    "pyplot.grid(True)\n",
    "pyplot.xlabel('$x$')\n",
    "pyplot.ylabel('$y$')\n",
    "pyplot.plot(x_euler[:idx_ground_euler],y_euler[:idx_ground_euler],'k-',label='Euler')\n",
    "pyplot.plot(x_rk2[:idx_ground_rk2],y_rk2[:idx_ground_rk2],'r--',label='RK2')\n",
    "pyplot.title('distance traveled: {:.3f}'.format(x_rk2[idx_ground_rk2-1]))\n",
    "pyplot.legend();\n",
    "\n",
    "pyplot.subplot(122)\n",
    "pyplot.grid(True)\n",
    "pyplot.xlabel('$x$')\n",
    "pyplot.ylabel('$y$')\n",
    "pyplot.plot(x_euler,y_euler,'k-',label='Euler')\n",
    "pyplot.plot(x_rk2,y_rk2,'r--',label='RK2')\n",
    "pyplot.xlim(0,5)\n",
    "pyplot.ylim(1.8,2.5)"
   ]
  },
  {
   "cell_type": "code",
   "execution_count": null,
   "metadata": {
    "collapsed": true
   },
   "outputs": [],
   "source": [
    "dt_values=numpy.array([0.1,0.05,0.01,0.005,0.001])\n",
    "u_values=numpy.empty_like(dt_values,dtype=numpy.ndarray)\n",
    "for i,dt in enumerate(dt_values):\n",
    "    N=int(T/dt)+1\n",
    "    t=numpy.linspace(0.0,T,N)\n",
    "    u=numpy.empty((N,4))\n",
    "    u[0]=numpy.array([v0,theta0,x0,y0])\n",
    "    for n in range(N-1):\n",
    "        u[n+1]=rk2_step(u[n],f,dt)\n",
    "    u_values[i]=u"
   ]
  },
  {
   "cell_type": "code",
   "execution_count": null,
   "metadata": {
    "collapsed": false
   },
   "outputs": [],
   "source": [
    "diffgrid=numpy.empty_like(dt_values)\n",
    "for i,dt in enumerate(dt_values):\n",
    "    diffgrid[i]=get_diffgrid(u_values[i],u_values[-1],dt)"
   ]
  },
  {
   "cell_type": "code",
   "execution_count": null,
   "metadata": {
    "collapsed": false
   },
   "outputs": [],
   "source": [
    "pyplot.figure(figsize=(6,6))\n",
    "pyplot.grid(True)\n",
    "pyplot.xlabel(r'$Delta t$',fontsize=18)\n",
    "pyplot.ylabel(r'L_1$-norm of the grid differences',fontsize=18)\n",
    "pyplot.xlim(1e-4,1)\n",
    "pyplot.ylim(1e-4,1)\n",
    "pyplot.axis('equal')\n",
    "pyplot.loglog(dt_values[:-1],diffgrid[:-1],color='k',ls='--',lw=2,marker='o');"
   ]
  },
  {
   "cell_type": "code",
   "execution_count": null,
   "metadata": {
    "collapsed": false
   },
   "outputs": [],
   "source": [
    "r=2\n",
    "h=0.001\n",
    "dt_values=numpy.array([h,r*h,r**2*h])\n",
    "u_values=numpy.empty_like(dt_values,dtype=numpy.ndarray)\n",
    "for i,dt in enumerate(dt_values):\n",
    "    N=int(T/dt)+1\n",
    "    t=numpy.linspace(0.0,T,N)\n",
    "    u=numpy.empty((N,4))\n",
    "    u[0]=numpy.array([v0,theta0,x0,y0])\n",
    "    for n in range(N-1):\n",
    "        u[n+1]=rk2_step(u[n],f,dt)\n",
    "    u_values[i]=u\n",
    "alpha=(log(get_diffgrid(u_values[2],u_values[1],dt_values[2]))-log(get_diffgrid(u_values[1],u_values[0],dt_values[1])))/log(r)\n",
    "print('The order of convergence is alpha = {:.3f}'.format(alpha))"
   ]
  },
  {
   "cell_type": "code",
   "execution_count": null,
   "metadata": {
    "collapsed": true
   },
   "outputs": [],
   "source": [
    "def leapfrog_step(unm1,u,f,dt):\n",
    "    return unm1+2.0*dt*f(u)"
   ]
  },
  {
   "cell_type": "code",
   "execution_count": null,
   "metadata": {
    "collapsed": true
   },
   "outputs": [],
   "source": [
    "g=9.8\n",
    "v_t=4.9\n",
    "C_D=1/5.0\n",
    "C_L=1.0\n",
    "v0=6.5\n",
    "theta0=-0.1\n",
    "x0=0.0\n",
    "y0=2.0\n",
    "T=15.0\n",
    "dt=0.01\n",
    "N=int(T/dt)+1"
   ]
  },
  {
   "cell_type": "code",
   "execution_count": null,
   "metadata": {
    "collapsed": true
   },
   "outputs": [],
   "source": [
    "u_leapfrog=numpy.empty((N,4))\n",
    "u_leapfrog[0]=numpy.array([v0,theta0,x0,y0])\n",
    "u_leapfrog[1]=rk2_step(u_leapfrog[0],f,dt)"
   ]
  },
  {
   "cell_type": "code",
   "execution_count": null,
   "metadata": {
    "collapsed": false
   },
   "outputs": [],
   "source": [
    "for n in range(1,N-1):\n",
    "    u_leapfrog[n+1]=leapfrog_step(u_leapfrog[n-1],u_leapfrog[n],f,dt)"
   ]
  },
  {
   "cell_type": "code",
   "execution_count": null,
   "metadata": {
    "collapsed": true
   },
   "outputs": [],
   "source": [
    "x_leapfrog=u_leapfrog[:,2]\n",
    "y_leapfrog=u_leapfrog[:,3]\n",
    "idx_negative_leapfrog=numpy.where(y_leapfrog<0.0)[0]\n",
    "if len(idx_negative_leapfrog)==0:\n",
    "    idx_negative_leapfrog=N-1\n",
    "    print('The glider has not reached the ground yet!')\n",
    "else:\n",
    "    idx_ground_leapfrog=idx_negative_leapfrog[0]"
   ]
  },
  {
   "cell_type": "code",
   "execution_count": null,
   "metadata": {
    "collapsed": false
   },
   "outputs": [],
   "source": [
    "pyplot.figure(figsize=(11,8))\n",
    "pyplot.subplot(121)\n",
    "pyplot.grid(True)\n",
    "pyplot.xlabel('$x$')\n",
    "pyplot.ylabel('$y$')\n",
    "pyplot.plot(x_leapfrog[:idx_ground_leapfrog],y_leapfrog[:idx_ground_leapfrog],color='k',ls='-',lw=2)\n",
    "pyplot.title('distance traveled : {:.3f}'.format(x_leapfrog[idx_ground_leapfrog-1]),fontsize=18);\n",
    "\n",
    "pyplot.subplot(122)\n",
    "pyplot.grid(True)\n",
    "pyplot.xlabel('$x$')\n",
    "pyplot.ylabel('$y$')\n",
    "pyplot.plot(x_leapfrog[:idx_ground_leapfrog],y_leapfrog[:idx_ground_leapfrog],color='k',ls=':',lw=2)\n",
    "pyplot.xlim(0,5)\n",
    "pyplot.ylim(1.8,2.5)"
   ]
  },
  {
   "cell_type": "code",
   "execution_count": null,
   "metadata": {
    "collapsed": false
   },
   "outputs": [],
   "source": [
    "r=2\n",
    "h=0.001\n",
    "dt_values=numpy.array([h,r*h,r**2*h])\n",
    "u_values=numpy.empty_like(dt_values,numpy.ndarray)\n",
    "for i,dt in enumerate(dt_values):\n",
    "    N=int(T/dt)+1\n",
    "    t=numpy.linspace(0.0,T,N)\n",
    "    u=numpy.empty((N,4))\n",
    "    u[0]=numpy.array([v0,theta0,x0,y0])\n",
    "    u[1]=rk2_step(u[0],f,dt)\n",
    "    for n in range(1,N-1):\n",
    "        u[n+1]=leapfrog_step(u[n-1],u[n],f,dt)\n",
    "    u_values[i]=u\n",
    "alpha=(log(get_diffgrid(u_values[2],u_values[1],dt_values[2]))-log(get_diffgrid(u_values[1],u_values[0],dt_values[1])))/log(r)\n",
    "print('The order of convergence is alpha = {:.3f}'.format(alpha))"
   ]
  },
  {
   "cell_type": "code",
   "execution_count": null,
   "metadata": {
    "collapsed": true
   },
   "outputs": [],
   "source": []
  }
 ],
 "metadata": {
  "kernelspec": {
   "display_name": "Python 3",
   "language": "python",
   "name": "python3"
  },
  "language_info": {
   "codemirror_mode": {
    "name": "ipython",
    "version": 3
   },
   "file_extension": ".py",
   "mimetype": "text/x-python",
   "name": "python",
   "nbconvert_exporter": "python",
   "pygments_lexer": "ipython3",
   "version": "3.4.3"
  }
 },
 "nbformat": 4,
 "nbformat_minor": 0
}
