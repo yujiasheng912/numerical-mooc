{
 "cells": [
  {
   "cell_type": "code",
   "execution_count": 1,
   "metadata": {
    "collapsed": true
   },
   "outputs": [],
   "source": [
    "import numpy\n",
    "from scipy.linalg import solve\n",
    "from matplotlib import pyplot\n",
    "%matplotlib inline\n",
    "from matplotlib import rcParams\n",
    "rcParams['font.size']=16\n",
    "rcParams['font.family']='serif'"
   ]
  },
  {
   "cell_type": "code",
   "execution_count": 2,
   "metadata": {
    "collapsed": true
   },
   "outputs": [],
   "source": [
    "alpha=0.0001\n",
    "L=0.01\n",
    "H=0.01\n",
    "nx=21\n",
    "ny=21\n",
    "nt=300\n",
    "dx=L/(nx-1)\n",
    "dy=H/(ny-1)\n",
    "x=numpy.linspace(0,L,nx)\n",
    "y=numpy.linspace(0,H,ny)\n",
    "T_bc=100.\n",
    "Ti=numpy.ones((ny,nx))*20.\n",
    "Ti[0,:]=T_bc\n",
    "Ti[:,0]=T_bc"
   ]
  },
  {
   "cell_type": "code",
   "execution_count": 3,
   "metadata": {
    "collapsed": false
   },
   "outputs": [],
   "source": [
    "def constructMatrix(nx,ny,sigma):\n",
    "    A=numpy.zeros(((nx-2)*(ny-2),(nx-2)*(ny-2)))\n",
    "    n=0\n",
    "    for j in range(1,ny-1):\n",
    "        for i in range(1,nx-1):\n",
    "            if i==1 and j==1:\n",
    "                A[n,n]=1/sigma+4\n",
    "                A[n,n+1]=-1\n",
    "                A[n,n+nx-2]=-1\n",
    "            elif i==nx-2 and j==1:\n",
    "                A[n,n]=1/sigma+3\n",
    "                A[n,n-1]=-1\n",
    "                A[n,n+nx-2]=-1\n",
    "            elif i==1 and j==ny-2:\n",
    "                A[n,n]=1/sigma+3\n",
    "                A[n,n+1]=-1\n",
    "                A[n,n-(nx-2)]=-1\n",
    "            elif i==nx-2 and j==ny-2:\n",
    "                A[n,n]=1/sigma+2\n",
    "                A[n,n-1]=-1\n",
    "                A[n,n-(nx-2)]=-1\n",
    "            elif i==1:\n",
    "                A[n,n]=1/sigma+4\n",
    "                A[n,n+1]=-1\n",
    "                A[n,n+nx-2]=-1\n",
    "                A[n,n-(nx-2)]=-1\n",
    "            elif i==nx-2:\n",
    "                A[n,n]=1/sigma+3\n",
    "                A[n,n-1]=-1\n",
    "                A[n,n+nx-2]=-1\n",
    "                A[n,n-(nx-2)]=-1\n",
    "            elif j==1:\n",
    "                A[n,n]=1/sigma+4\n",
    "                A[n,n+1]=-1\n",
    "                A[n,n-1]=-1\n",
    "                A[n,n+nx-2]=-1\n",
    "            elif j==ny-2:\n",
    "                A[n,n]=1/sigma+3\n",
    "                A[n,n+1]=-1\n",
    "                A[n,n-1]=-1\n",
    "                A[n,n-(nx-2)]=-1\n",
    "            else:\n",
    "                A[n,n]=1/sigma+4\n",
    "                A[n,n+1]=-1\n",
    "                A[n,n-1]=-1\n",
    "                A[n,n+nx-2]=-1\n",
    "                A[n,n-(nx-2)]=-1\n",
    "            n+=1\n",
    "    return A"
   ]
  },
  {
   "cell_type": "code",
   "execution_count": 4,
   "metadata": {
    "collapsed": true
   },
   "outputs": [],
   "source": [
    "def generateRHS(nx,ny,sigma,T,T_bc):\n",
    "    RHS=numpy.zeros((nx-2)*(ny-2))\n",
    "    n=0\n",
    "    for j in range(1,ny-1):\n",
    "        for i in range(1,nx-1):\n",
    "            if i==1 and j==1:\n",
    "                RHS[n]=T[j,i]/sigma+2*T_bc\n",
    "            elif i==nx-2 and j==1:\n",
    "                RHS[n]=T[j,i]/sigma+T_bc\n",
    "            elif i==1 and j==ny-2:\n",
    "                RHS[n]=T[j,i]/sigma+T_bc\n",
    "            elif i==nx-2 and j==ny-2:\n",
    "                RHS[n]=T[j,i]/sigma\n",
    "            elif i==1:\n",
    "                RHS[n]=T[j,i]/sigma+T_bc\n",
    "            elif i==nx-2:\n",
    "                RHS[n]=T[j,i]/sigma\n",
    "            elif j==1:\n",
    "                RHS[n]=T[j,i]/sigma+T_bc\n",
    "            elif j==ny-2:\n",
    "                RHS[n]=T[j,i]/sigma\n",
    "            else:\n",
    "                RHS[n]=T[j,i]/sigma\n",
    "            n+=1\n",
    "    return RHS"
   ]
  },
  {
   "cell_type": "code",
   "execution_count": 5,
   "metadata": {
    "collapsed": true
   },
   "outputs": [],
   "source": [
    "def map_1Dto2D(nx,ny,T_1D,T_bc):\n",
    "    T=numpy.zeros((ny,nx))\n",
    "    n=0\n",
    "    for j in range(1,ny-1):\n",
    "        for i in range(1,nx-1):\n",
    "            T[j,i]=T_1D[n]\n",
    "            n+=1\n",
    "    T[0,:]=T_bc\n",
    "    T[:,0]=T_bc\n",
    "    T[-1,:]=T[-2,:]\n",
    "    T[:,-1]=T[:,-2]\n",
    "    return T"
   ]
  },
  {
   "cell_type": "code",
   "execution_count": 6,
   "metadata": {
    "collapsed": true
   },
   "outputs": [],
   "source": [
    "def btcs_2D(T,A,nt,sigma,T_bc,nx,ny,dt):\n",
    "    j_mid=(numpy.shape(T)[0])/2\n",
    "    i_mid=(numpy.shape(T)[1])/2\n",
    "    for t in range(nt):\n",
    "        Tn=T.copy()\n",
    "        b=generateRHS(nx,ny,sigma,Tn,T_bc)\n",
    "        T_interior=solve(A,b)\n",
    "        T=map_1Dto2D(nx,ny,T_interior,T_bc)\n",
    "        if T[j_mid,i_mid]>=70:\n",
    "            print('Center of plate reached 70C at time {0:.2f}s.'.format(dt*t,t))\n",
    "            break\n",
    "    if T[j_mid,i_mid]<70:\n",
    "        print('Center of plate has not reached 70C yet, it is only {0:.2f}C.'.format(T[j_mid,i_mid]))\n",
    "    return T"
   ]
  },
  {
   "cell_type": "code",
   "execution_count": 7,
   "metadata": {
    "collapsed": false
   },
   "outputs": [
    {
     "name": "stderr",
     "output_type": "stream",
     "text": [
      "C:\\Users\\yujia\\Anaconda3\\lib\\site-packages\\ipykernel\\__main__.py:9: DeprecationWarning: using a non-integer number instead of an integer will result in an error in the future\n",
      "C:\\Users\\yujia\\Anaconda3\\lib\\site-packages\\ipykernel\\__main__.py:12: DeprecationWarning: using a non-integer number instead of an integer will result in an error in the future\n"
     ]
    },
    {
     "name": "stdout",
     "output_type": "stream",
     "text": [
      "Center of plate reached 70C at time 0.16s.\n"
     ]
    }
   ],
   "source": [
    "sigma=.25\n",
    "A=constructMatrix(nx,ny,sigma)\n",
    "dt=sigma*min(dx,dy)**2/alpha\n",
    "T=btcs_2D(Ti.copy(),A,nt,sigma,T_bc,nx,ny,dt)"
   ]
  },
  {
   "cell_type": "code",
   "execution_count": 8,
   "metadata": {
    "collapsed": false
   },
   "outputs": [
    {
     "data": {
      "image/png": "[encoded data removed]",
      "text/plain": [
       "<matplotlib.figure.Figure at 0x6f296d8>"
      ]
     },
     "metadata": {},
     "output_type": "display_data"
    }
   ],
   "source": [
    "mx,my=numpy.meshgrid(x,y)\n",
    "pyplot.figure(figsize=(8,6))\n",
    "pyplot.contourf(my,mx,T,20)\n",
    "pyplot.xlabel('$x$')\n",
    "pyplot.ylabel('$y$')\n",
    "pyplot.colorbar();"
   ]
  },
  {
   "cell_type": "code",
   "execution_count": null,
   "metadata": {
    "collapsed": true
   },
   "outputs": [],
   "source": []
  }
 ],
 "metadata": {
  "kernelspec": {
   "display_name": "Python 3",
   "language": "python",
   "name": "python3"
  },
  "language_info": {
   "codemirror_mode": {
    "name": "ipython",
    "version": 3
   },
   "file_extension": ".py",
   "mimetype": "text/x-python",
   "name": "python",
   "nbconvert_exporter": "python",
   "pygments_lexer": "ipython3",
   "version": "3.4.3"
  }
 },
 "nbformat": 4,
 "nbformat_minor": 0
}
