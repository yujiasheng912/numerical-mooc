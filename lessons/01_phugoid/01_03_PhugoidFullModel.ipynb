{
 "cells": [
  {
   "cell_type": "markdown",
   "metadata": {},
   "source": [
    "###### Content under Creative Commons Attribution license CC-BY 4.0, code under MIT license (c)2014 L.A. Barba, G.F. Forsyth, I. Hawke. Partly based on content by David Ketcheson, also under CC-BY."
   ]
  },
  {
   "cell_type": "markdown",
   "metadata": {},
   "source": [
    "# Full phugoid model"
   ]
  },
  {
   "cell_type": "markdown",
   "metadata": {},
   "source": [
    "This is the third IPython Notebook of the series on the _phugoid model of glider flight_, our first learning module of the course [\"Practical Numerical Methods with Python\"](http://openedx.seas.gwu.edu/courses/GW/MAE6286/2014_fall/about). In the first notebook, we described the physics of the trajectories known as phugoids obtained from an exchange of potential and kinetic energy in an idealized motion with no drag. We gave you a neat little code to play with and plot various phugoid curves.\n",
    "\n",
    "In the second notebook, we looked at the equation representing small perturbations on the straight-line phugoid, resulting in simple harmonic motion. This is a second-order ordinary differential equation, and we solved it numerically using **Euler's method**: the simplest numerical method of all. We learned about convergence and calculated the error of the numerical solution, comparing with an analytical solution. That is a good foundation!\n",
    "\n",
    "Now, let's go back to the dynamical model, and take away the idealization of no-drag. Let's remind ourselves of the forces affecting an aircraft, considering now that it may be accelerating, with an instantaneous upward trajectory. We use the designation $\\theta$ for the angle, and consider it positive upwards."
   ]
  },
  {
   "cell_type": "markdown",
   "metadata": {},
   "source": [
    "![Image](./figures/glider_forces-lesson3.png)\n",
    "#### Figure 1. Forces with a positive trajectory angle."
   ]
  },
  {
   "cell_type": "markdown",
   "metadata": {},
   "source": [
    "In Figure 1, $L$ is the lift, $W$ is the weight, $D$ is the drag, and $\\theta$ the positive angle of the trajectory, instantaneously. \n",
    "\n",
    "In lesson 1, we wrote the force balance in the directions perpendicular and parallel to the trajectory for a glider in _equilibrium_. What if the forces are _not_ in balance? Well, there will be acceleration terms in the equations of motion, and we would have in that case:\n",
    "\n",
    "\\begin{align}\n",
    "m \\frac{dv}{dt} & = - W \\sin\\theta - D \\\\\n",
    "m v \\, \\frac{d\\theta}{dt} & = - W \\cos\\theta + L\n",
    "\\end{align}\n",
    "\n",
    "We can use a few little tricks to make these equations more pleasing. First, use primes to denote the time derivatives and divide through by the weight:\n",
    "\n",
    "\\begin{align}\n",
    " \\frac{v'}{g} & = - \\sin\\theta - D/W \\\\\n",
    "\\frac{v}{g} \\, \\theta' & = - \\cos\\theta + L/W\n",
    "\\end{align}\n",
    "\n",
    "\n",
    "Recall, from our first lesson, that the ratio of lift to weight is known from the trim conditions—$L/W=v^2/v_t^2$— and also from the definitions of lift and drag, \n",
    "\n",
    "$$\\begin{eqnarray}\n",
    "L &=& C_L S \\times \\frac{1}{2} \\rho v^2 \\\\\n",
    "D &=& C_D S \\times \\frac{1}{2} \\rho v^2\n",
    "\\end{eqnarray}$$\n",
    "\n",
    "we see that $L/D=C_L/C_D$. The system of equations can be re-written:\n",
    "\n",
    "\\begin{align}\n",
    " v' & = - g\\, \\sin\\theta - \\frac{C_D}{C_L} \\frac{g}{v_t^2} v^2 \\\\\n",
    " \\theta' & = - \\frac{g}{v}\\,\\cos\\theta + \\frac{g}{v_t^2}\\, v\n",
    "\\end{align}\n",
    "\n",
    "It is very interesting that the first equation has the factor $C_D/C_L$, which is the inverse of a measure of the aerodynamic efficiency of the aircraft. It turns out, this is the term that contributes damping to the phugoid model: if drag is zero, there is no damping. Drag is never zero in real life, but as engineers design more aerodynam-ically efficient aircraft, they make the phugoid mode more weakly damped. At altitude, this is nothing but a slight bother, but vertical oscillations are unsafe during final approach to land, so this is something to watch out for!\n"
   ]
  },
  {
   "cell_type": "markdown",
   "metadata": {},
   "source": [
    "## The initial value problem"
   ]
  },
  {
   "cell_type": "markdown",
   "metadata": {},
   "source": [
    "If we want to visualize the flight trajectories predicted by this model, we are going to need to integrate the spatial coordinates, which depend on both the forward velocity (tangential to the trajectory) and the trajectory angle. The position of the glider on a vertical plane will be designated by coordinates $(x, y)$ with respect to an inertial frame of reference, and are obtained from:\n",
    "\n",
    "\\begin{align}\n",
    "x'(t) & = v \\cos(\\theta) \\\\\n",
    "y'(t) & = v \\sin(\\theta).\n",
    "\\end{align}\n",
    "\n",
    "Augmenting our original two differential equations by the two equations above, we have a system of four first-order differential equations to solve. We will use a time-stepping approach, like in the previous lesson. To do so, we do need *initial values* for every unknown:\n",
    "\n",
    "$$\n",
    "v(0) = v_0 \\quad \\text{and} \\quad \\theta(0) = \\theta_0\\\\\n",
    "x(0) = x_0 \\quad \\text{and} \\quad y(0) = y_0\n",
    "$$\n",
    "\n",
    "\n",
    "\n"
   ]
  },
  {
   "cell_type": "markdown",
   "metadata": {},
   "source": [
    "## Solve with Euler's method"
   ]
  },
  {
   "cell_type": "markdown",
   "metadata": {},
   "source": [
    "We know how to apply Euler's method from the previous lesson. We replace each of the time derivatives by an approximation of the form:\n",
    "\n",
    "$$v'(t) \\approx \\frac{v^{n+1} - v^n}{\\Delta t},$$\n",
    "\n",
    "where we are now using a superscript $n$ to indicate the $n$-th value in the time iterations. The first differential equation, for example, gives:\n",
    "\n",
    "$$\\frac{v^{n+1} - v^n}{\\Delta t} = - g\\, \\sin\\theta^n - \\frac{C_D}{C_L} \\frac{g}{v_t^2} (v^n)^2$$\n",
    "\n",
    "Alright, we know where this is going. At each time iteration $t^n$, we want to evaluate all the known data of our system to obtain the state at $t^{n+1}$—the next time step. We say that we are _stepping in time_ or _time marching_.\n",
    "\n",
    "The full system of equations discretized with Euler's method is:\n",
    "\n",
    "\\begin{align}\n",
    "v^{n+1} & = v^n + \\Delta t \\left(- g\\, \\sin\\theta^n - \\frac{C_D}{C_L} \\frac{g}{v_t^2} (v^n)^2 \\right) \\\\\n",
    "\\theta^{n+1} & = \\theta^n + \\Delta t \\left(- \\frac{g}{v^n}\\,\\cos\\theta^n + \\frac{g}{v_t^2}\\, v^n \\right) \\\\\n",
    "x^{n+1} & = x^n + \\Delta t \\, v^n \\cos\\theta^n \\\\\n",
    "y^{n+1} & = y^n + \\Delta t \\, v^n \\sin\\theta^n.\n",
    "\\end{align}"
   ]
  },
  {
   "cell_type": "markdown",
   "metadata": {},
   "source": [
    "As we've learned before, the system of differential equations can also be written as a vector equation:\n",
    "\n",
    "$$u'(t) = f(u)$$\n",
    "\n",
    "where\n",
    "\n",
    "\\begin{align}\n",
    "u & = \\begin{pmatrix} v \\\\ \\theta \\\\ x \\\\ y \\end{pmatrix} & f(u) & = \\begin{pmatrix} - g\\, \\sin\\theta - \\frac{C_D}{C_L} \\frac{g}{v_t^2} v^2 \\\\ - \\frac{g}{v}\\,\\cos\\theta + \\frac{g}{v_t^2}\\, v \\\\ v\\cos\\theta \\\\ v\\sin\\theta \\end{pmatrix}.\n",
    "\\end{align}\n",
    "\n",
    "It's a bit tricky to code the solution using a NumPy array holding all your independent variables. But if you do, a function for the Euler step can be written that takes any number of simultaneous equations. It simply steps in time using the same line of code:\n",
    "\n",
    "```Python\n",
    "def euler_step(u, f, dt):\n",
    "    return u + dt * f(u)\n",
    "```\n",
    "\n",
    "This function can take a NumPy array `u` with any number of components. All we need to do is create an appropriate function `f(u)` describing our system of differential equations. Notice how we are passing a _function_ as part of the arguments list to `euler_step()`. Neat!"
   ]
  },
  {
   "cell_type": "markdown",
   "metadata": {},
   "source": [
    "### And solve!"
   ]
  },
  {
   "cell_type": "markdown",
   "metadata": {},
   "source": [
    "As always, we start by loading the modules and libraries that we need for this problem. We'll need a few transcendental functions, including the $\\log$ for a convergence study later on. And remember: the line `%matplotlib inline` is a magic function that tells Matplotlib to give us the plots in the notebook (the default behavior of Matplotlib is to open a pop-up window). In addition, we are importing the module `rcParams` to define notebook-wide plotting parameters: font family and size. Here we go!"
   ]
  },
  {
   "cell_type": "code",
   "execution_count": 1,
   "metadata": {
    "collapsed": false
   },
   "outputs": [],
   "source": [
    "from math import sin, cos, log, ceil\n",
    "import numpy\n",
    "from matplotlib import pyplot\n",
    "%matplotlib inline\n",
    "from matplotlib import rcParams\n",
    "rcParams['font.family'] = 'serif'\n",
    "rcParams['font.size'] = 16"
   ]
  },
  {
   "cell_type": "markdown",
   "metadata": {},
   "source": [
    "Next, we need to set things up to start our numerical solution: the parameter \n",
    "values and the _initial values_. You know what the acceleration of gravity is: 9.8 m/s$^2$, but what are good values for $C_D/C_L$, the inverse of the aerodynamic efficiency? Some possible values are given on a table in the Wikipedia entry for [lift-to-drag ratio](http://en.wikipedia.org/wiki/Lift-to-drag_ratio): a modern sailplane can have $L/D$ of 40 to 60, depending on span (and, in case you're interested, a flying squirrel has $L/D$ close to 2).\n",
    "\n",
    "For the _trim velocity_, the speed range for typical sailplanes is between 65 and 280 km/hr, according to Wikipedia (it must be right!). Let's convert that to meters per second: 18 to 78 m/s. We'll pick a value somewhere in the middle of this range.\n",
    "\n",
    "Here's a possible set of parameters for the simulation, but be sure to come back and change some of these, and see what happens!"
   ]
  },
  {
   "cell_type": "code",
   "execution_count": 2,
   "metadata": {
    "collapsed": false
   },
   "outputs": [],
   "source": [
    "# model parameters:\n",
    "g = 9.8      # gravity in m s^{-2}\n",
    "v_t = 30.0   # trim velocity in m s^{-1}   \n",
    "C_D = 1/40  # drag coefficient --- or D/L if C_L=1\n",
    "C_L = 1   # for convenience, use C_L = 1\n",
    "\n",
    "### set initial conditions ###\n",
    "v0 = v_t     # start at the trim velocity (or add a delta)\n",
    "theta0 = 0 # initial angle of trajectory\n",
    "x0 = 0     # horizotal position is arbitrary\n",
    "y0 = 1000  # initial altitude"
   ]
  },
  {
   "cell_type": "markdown",
   "metadata": {},
   "source": [
    "We'll define a function `f()` to match the right-hand side of Equation (15), the full differential system in vector form. This function assumes that we have available the parameters defined above. If you re-execute the cell above with different parameter values, you can just run the solution without re-executing the function definition."
   ]
  },
  {
   "cell_type": "code",
   "execution_count": 3,
   "metadata": {
    "collapsed": false
   },
   "outputs": [],
   "source": [
    "def f(u):\n",
    "    \"\"\"Returns the right-hand side of the phugoid system of equations.\n",
    "    \n",
    "    Parameters\n",
    "    ----------\n",
    "    u : array of float\n",
    "        array containing the solution at time n.\n",
    "        \n",
    "    Returns\n",
    "    -------\n",
    "    dudt : array of float\n",
    "        array containing the RHS given u.\n",
    "    \"\"\"\n",
    "    \n",
    "    v = u[0]\n",
    "    theta = u[1]\n",
    "    x = u[2]\n",
    "    y = u[3]\n",
    "    return numpy.array([-g*sin(theta) - C_D/C_L*g/v_t**2*v**2,\n",
    "                      -g*cos(theta)/v + g/v_t**2*v,\n",
    "                      v*cos(theta),\n",
    "                      v*sin(theta)])"
   ]
  },
  {
   "cell_type": "markdown",
   "metadata": {},
   "source": [
    "Compare the code defining function `f(u)` with the differential equations, and convince yourself that it's right!\n",
    "\n",
    "\\begin{align}\n",
    "u & = \\begin{pmatrix} v \\\\ \\theta \\\\ x \\\\ y \\end{pmatrix} & f(u) & = \\begin{pmatrix} - g\\, \\sin\\theta - \\frac{C_D}{C_L} \\frac{g}{v_t^2} v^2 \\\\ - \\frac{g}{v}\\,\\cos\\theta + \\frac{g}{v_t^2}\\, v \\\\ v\\cos\\theta \\\\ v\\sin\\theta \\end{pmatrix} \\nonumber\n",
    "\\end{align}\n",
    "\n",
    "Now, Euler's method is implemented in a simple function `euler_step()`:"
   ]
  },
  {
   "cell_type": "code",
   "execution_count": 4,
   "metadata": {
    "collapsed": false
   },
   "outputs": [],
   "source": [
    "def euler_step(u, f, dt):\n",
    "    \"\"\"Returns the solution at the next time-step using Euler's method.\n",
    "    \n",
    "    Parameters\n",
    "    ----------\n",
    "    u : array of float\n",
    "        solution at the previous time-step.\n",
    "    f : function\n",
    "        function to compute the right hand-side of the system of equation.\n",
    "    dt : float\n",
    "        time-increment.\n",
    "    \n",
    "    Returns\n",
    "    -------\n",
    "    u_n_plus_1 : array of float\n",
    "        approximate solution at the next time step.\n",
    "    \"\"\"\n",
    "    \n",
    "    return u + dt * f(u)"
   ]
  },
  {
   "cell_type": "markdown",
   "metadata": {},
   "source": [
    "After definiting a final time for the solution, and the time step $\\Delta t$, we can construct the grid in time using the NumPy function [`linspace()`](http://docs.scipy.org/doc/numpy/reference/generated/numpy.linspace.html). Make sure you study the decisions we made here to build the time grid: why do we add 1 to the definition of `N`, for example?\n",
    "\n",
    "Look at the code below, and make sure you understand the following aspects of it.\n",
    "\n",
    "* The NumPy array `u` contains the solution at every time-step,  consisting of the velocity, angle and location of the glider. \n",
    "* The first element of the array `u` is set to contain the initial conditions. \n",
    "* In the `for`-loop, the function `euler_step()` is called to get the solution at time-step $n+1$.  "
   ]
  },
  {
   "cell_type": "code",
   "execution_count": 5,
   "metadata": {
    "collapsed": false
   },
   "outputs": [],
   "source": [
    "T = 100                          # final time\n",
    "dt = 0.1                           # time increment\n",
    "N = int(T/dt) + 1                  # number of time-steps\n",
    "t = numpy.linspace(0, T, N)      # time discretization\n",
    "\n",
    "# initialize the array containing the solution for each time-step\n",
    "u = numpy.empty((N, 4))\n",
    "u[0] = numpy.array([v0, theta0, x0, y0])# fill 1st element with initial values\n",
    "\n",
    "# time loop - Euler method\n",
    "for n in range(N-1):\n",
    "    \n",
    "    u[n+1] = euler_step(u[n], f, dt)"
   ]
  },
  {
   "cell_type": "markdown",
   "metadata": {},
   "source": [
    "## Plot the trajectory"
   ]
  },
  {
   "cell_type": "markdown",
   "metadata": {},
   "source": [
    "In order to plot the path of the glider, we need the location (`x`, `y`) with respect to time. That information is already contained in our NumPy array containing the solution; we just need to pluck it out. \n",
    "\n",
    "Make sure you understand the indices to `u`, below, and the use of the colon notation. If any of it is confusing, read the Python documentation on [Indexing](http://docs.scipy.org/doc/numpy/reference/arrays.indexing.html)."
   ]
  },
  {
   "cell_type": "code",
   "execution_count": 6,
   "metadata": {
    "collapsed": false
   },
   "outputs": [],
   "source": [
    "# get the glider's position with respect to the time\n",
    "x = u[:,2]\n",
    "y = u[:,3]"
   ]
  },
  {
   "cell_type": "markdown",
   "metadata": {},
   "source": [
    "Time to plot the path of the glider and get the distance travelled!"
   ]
  },
  {
   "cell_type": "code",
   "execution_count": 7,
   "metadata": {
    "collapsed": false
   },
   "outputs": [
    {
     "data": {
      "image/png": "[encoded data removed]",
      "text/plain": [
       "<matplotlib.figure.Figure at 0x7c2e9b0>"
      ]
     },
     "metadata": {},
     "output_type": "display_data"
    }
   ],
   "source": [
    "# visualization of the path\n",
    "pyplot.figure(figsize=(8,6))\n",
    "pyplot.grid(True)\n",
    "pyplot.xlabel(r'x', fontsize=18)\n",
    "pyplot.ylabel(r'y', fontsize=18)\n",
    "pyplot.title('Glider trajectory, flight time = %.2f' % T, fontsize=18)\n",
    "pyplot.plot(x,y, 'k-', lw=2);"
   ]
  },
  {
   "cell_type": "markdown",
   "metadata": {},
   "source": [
    "## Grid convergence"
   ]
  },
  {
   "cell_type": "markdown",
   "metadata": {},
   "source": [
    "Let's study the convergence of Euler's method for the phugoid model. In the previous lesson, when we studied the straight-line phugoid under a small perturbation, we looked at convergence by comparing the numerical solution with the exact solution. Unfortunately, most problems don't have an exact solution (that's why we compute in the first place!). But here's a neat thing: we can use numerical solutions computed on different grids to study the convergence of the method, even without an analytical solution.\n",
    "\n",
    "We need to be careful, though, and make sure that the fine-grid solution is resolving all of the features in the mathematical model. How can we know this? We'll have a look at that in a bit. Let's see how this works first.\n",
    "\n",
    "You need a sequence of numerical solutions of the same problem, each with a different number of time grid points.\n",
    "\n",
    "Let's create a NumPy array called `dt_values` that contains the  time-increment of each grid to be solved on. For each element `dt_values[i]`, we will compute the solution `u_values[i]` of the glider model using Euler's method. If we want to use five different values of $\\Delta t$, we'll have five solutions: we put them in an array ... but each one is also an array! We'll have an array of arrays. How meta is that?\n",
    "\n",
    "We have one more trick up our sleeve: `enumerate()`. To get all the numerical solutions—each with its value of $\\Delta t$—done in one fell swoop, we will loop over the elements of the array `dt_values`. Within the loop, we need to access both `dt_values[i]` and the index `i`. It turns out, `enumerate()` is a built-in Python function that will give us consecutive `index, value` pairs just like we need. \n",
    "\n",
    "Read the code below carefully, and remember: you can get a help pane on any function by entering a question mark followed by the function name. For example, add a new code cell below and type:  `?numpy.empty_like`."
   ]
  },
  {
   "cell_type": "code",
   "execution_count": 8,
   "metadata": {
    "collapsed": false
   },
   "outputs": [],
   "source": [
    "dt_values = numpy.array([0.1, 0.05, 0.01, 0.005, 0.001])\n",
    "\n",
    "u_values = numpy.empty_like(dt_values, dtype=numpy.ndarray)\n",
    "\n",
    "for i, dt in enumerate(dt_values):\n",
    "    \n",
    "    N = int(T/dt) + 1    # number of time-steps\n",
    "    \n",
    "    ### discretize the time t ###\n",
    "    t = numpy.linspace(0.0, T, N)\n",
    "    \n",
    "    # initialize the array containing the solution for each time-step\n",
    "    u = numpy.empty((N, 4))\n",
    "    u[0] = numpy.array([v0, theta0, x0, y0])\n",
    "\n",
    "    # time loop\n",
    "    for n in range(N-1):\n",
    "       \n",
    "        u[n+1] = euler_step(u[n], f, dt)   ### call euler_step() ###\n",
    "    \n",
    "    # store the value of u related to one grid\n",
    "    u_values[i] = u"
   ]
  },
  {
   "cell_type": "markdown",
   "metadata": {},
   "source": [
    "In [Lesson 2](http://nbviewer.ipython.org/github/numerical-mooc/numerical-mooc/blob/master/lessons/01_phugoid/01_02_Phugoid_Oscillation.ipynb), we compared our numerical result to an analytical solution, but now we will instead compare numerical results from different grids. \n",
    "\n",
    "For each solution, we'll compute the difference relative to the finest grid. You will be tempted to call this an _\"error\"_, but be careful: the solution at the finest grid is _not the exact_ solution, it is just a reference value that we can use to estimate grid convergence.\n",
    "\n",
    "To calculate the difference between one solution `u_current` and the solution at the finest grid, `u_finest`, we'll use the $L_1$-norm, but any norm will do.\n",
    "\n",
    "There is a small problem with this, though.  The coarsest grid, where $\\Delta t = 0.1$, has 1001 grid points, while the finest grid, with $\\Delta t = 0.001$ has 100001 grid points.  How do we know which grid points correspond to the same location in two numerical solutions, in order to compare them?  \n",
    "\n",
    "If we had time grids of 10 and 100 steps, respectively, this would be relatively simple to calculate.  Each element in our 10-step grid would span ten elements in our 100-step grid. \n",
    "\n",
    "Calculating the _ratio_ of the two grid sizes will tell us how many elements in our fine-grid will span over one element in our coarser grid.\n",
    "\n",
    "Recall that we can _slice_ a NumPy array and grab a subset of values from it.  The syntax for that is\n",
    "\n",
    "```Python\n",
    "my_array[3:8]\n",
    "```\n",
    "\n",
    "An additional slicing trick that we can take advantage of is the \"slice step size.\"  We add an additional `:` to the slice range and then specify how many steps to take between elements. For example, this code\n",
    "\n",
    "```Python\n",
    "my_array[3:8:2]\n",
    "```\n",
    "\n",
    "will return the values of `my_array[3]`, `my_array[5]` and `my_array[7]`\n",
    "\n",
    "With that, we can write a function to obtain the differences between coarser and finest grids. Here we go ..."
   ]
  },
  {
   "cell_type": "code",
   "execution_count": 9,
   "metadata": {
    "collapsed": false
   },
   "outputs": [],
   "source": [
    "def get_diffgrid(u_current, u_fine, dt):\n",
    "    \"\"\"Returns the difference between one grid and the fine one using L-1 norm.\n",
    "    \n",
    "    Parameters\n",
    "    ----------\n",
    "    u_current : array of float\n",
    "        solution on the current grid.\n",
    "    u_finest : array of float\n",
    "        solution on the fine grid.\n",
    "    dt : float\n",
    "        time-increment on the current grid.\n",
    "    \n",
    "    Returns\n",
    "    -------\n",
    "    diffgrid : float\n",
    "        difference computed in the L-1 norm.\n",
    "    \"\"\"\n",
    "    \n",
    "    N_current = len(u_current[:,0])\n",
    "    N_fine = len(u_fine[:,0])\n",
    "   \n",
    "    grid_size_ratio = ceil(N_fine/N_current)\n",
    "    \n",
    "    diffgrid = dt * numpy.sum( numpy.abs(\\\n",
    "            u_current[:,2]- u_fine[::grid_size_ratio,2])) \n",
    "    \n",
    "    return diffgrid"
   ]
  },
  {
   "cell_type": "markdown",
   "metadata": {},
   "source": [
    "Now that the function has been defined, let's compute the grid differences for each solution, relative to the fine-grid solution. Call the function `get_diffgrid()` with two solutions, one of which is always the one at the finest grid. Here's a neat Python trick: you can use negative indexing in Python!  If you have an array called `my_array` you access the _first_ element with\n",
    "\n",
    "`my_array[0]`\n",
    "\n",
    "But you can also access the _last_ element with \n",
    "\n",
    "`my_array[-1]`\n",
    "\n",
    "and the next to last element with\n",
    "\n",
    "`my_array[-2]`\n",
    "\n",
    "and so on.  "
   ]
  },
  {
   "cell_type": "code",
   "execution_count": 10,
   "metadata": {
    "collapsed": false
   },
   "outputs": [
    {
     "name": "stdout",
     "output_type": "stream",
     "text": [
      "dt = 0.1\n",
      "dt = 0.05\n",
      "dt = 0.01\n",
      "dt = 0.005\n",
      "dt = 0.001\n"
     ]
    }
   ],
   "source": [
    "# compute difference between one grid solution and the finest one\n",
    "diffgrid = numpy.empty_like(dt_values)\n",
    "\n",
    "for i, dt in enumerate(dt_values):\n",
    "    print('dt = {}'.format(dt))\n",
    "\n",
    "    ### call the function get_diffgrid() ###\n",
    "    diffgrid[i] = get_diffgrid(u_values[i], u_values[-1], dt)"
   ]
  },
  {
   "cell_type": "markdown",
   "metadata": {},
   "source": [
    "Time to create a plot of the results! We'll create a *log-log* plot with the Matplotlib function [`loglog()`](http://matplotlib.org/api/pyplot_api.html?highlight=loglog#matplotlib.pyplot.loglog). Remember to skip the difference of the finest-grid solution with itself, which is zero."
   ]
  },
  {
   "cell_type": "code",
   "execution_count": 11,
   "metadata": {
    "collapsed": false
   },
   "outputs": [
    {
     "data": {
      "image/png": "[encoded data removed]",
      "text/plain": [
       "<matplotlib.figure.Figure at 0x13e9588>"
      ]
     },
     "metadata": {},
     "output_type": "display_data"
    }
   ],
   "source": [
    "# log-log plot of the grid differences\n",
    "pyplot.figure(figsize=(6,6))\n",
    "pyplot.grid(True)\n",
    "pyplot.xlabel('$\\Delta t$', fontsize=18)\n",
    "pyplot.ylabel('$L_1$-norm of the grid differences', fontsize=18)\n",
    "pyplot.axis('equal')\n",
    "pyplot.loglog(dt_values[:-1], diffgrid[:-1], color='k', ls='-', lw=2, marker='o');"
   ]
  },
  {
   "cell_type": "markdown",
   "metadata": {},
   "source": [
    "### Order of convergence"
   ]
  },
  {
   "cell_type": "markdown",
   "metadata": {},
   "source": [
    "The order of convergence is the rate at which the numerical solution approaches the exact one as the mesh is refined. Considering that we're not comparing with an exact solution, we use 3 grid resolutions that are refined at a constant ratio $r$ to find the *observed order of convergence* ($p$), which is given by:\n",
    "\n",
    "$$\n",
    "\\begin{equation}\n",
    "p = \\frac{\\log \\left(\\frac{f_3-f_2}{f_2-f_1} \\right) }{\\log(r)}\n",
    "\\end{equation}\n",
    "$$\n",
    "\n",
    "where $f_1$ is the finest mesh solution, and $f_3$ the coarsest.  "
   ]
  },
  {
   "cell_type": "code",
   "execution_count": 12,
   "metadata": {
    "collapsed": false
   },
   "outputs": [
    {
     "name": "stdout",
     "output_type": "stream",
     "text": [
      "The order of convergence is p = 1.014\n"
     ]
    }
   ],
   "source": [
    "r = 2\n",
    "h = 0.001\n",
    "\n",
    "dt_values2 = numpy.array([h, r*h, r**2*h])\n",
    "\n",
    "u_values2 = numpy.empty_like(dt_values2, dtype=numpy.ndarray)\n",
    "\n",
    "diffgrid2 = numpy.empty(2)\n",
    "\n",
    "for i, dt in enumerate(dt_values2):\n",
    "    \n",
    "    N = int(T/dt) + 1   # number of time-steps\n",
    "    \n",
    "    ### discretize the time t ###\n",
    "    t = numpy.linspace(0.0, T, N)\n",
    "    \n",
    "    # initialize the array containing the solution for each time-step\n",
    "    u = numpy.empty((N, 4))\n",
    "    u[0] = numpy.array([v0, theta0, x0, y0])\n",
    "\n",
    "    # time loop\n",
    "    for n in range(N-1):\n",
    "\n",
    "        u[n+1] = euler_step(u[n], f, dt)         ### call euler_step() ###\n",
    "    \n",
    "    # store the value of u related to one grid\n",
    "    u_values2[i] = u\n",
    "    \n",
    "\n",
    "#calculate f2 - f1\n",
    "diffgrid2[0] = get_diffgrid(u_values2[1], u_values2[0], dt_values2[1])\n",
    "\n",
    "#calculate f3 - f2\n",
    "diffgrid2[1] = get_diffgrid(u_values2[2], u_values2[1], dt_values2[2])\n",
    "\n",
    "# calculate the order of convergence\n",
    "p = (log(diffgrid2[1]) - log(diffgrid2[0])) / log(r)\n",
    "\n",
    "print('The order of convergence is p = {:.3f}'.format(p));"
   ]
  },
  {
   "cell_type": "markdown",
   "metadata": {},
   "source": [
    "See how the observed order of convergence is close to 1? This means that the rate at which the grid differences decrease match the mesh-refinement ratio. We say that Euler's method is of *first order*, and this result is a consequence of that."
   ]
  },
  {
   "cell_type": "markdown",
   "metadata": {},
   "source": [
    "# Paper airplane challenge"
   ]
  },
  {
   "cell_type": "markdown",
   "metadata": {},
   "source": [
    "Suppose you wanted to participate in a paper-airplane competition, and you want to use what you know about the phugoid model to improve your chances. For a given value of $L/D$ that you can obtain in your design, you want to know what is the best initial velocity and launch angle to fly the longest distance from a given height.\n",
    "\n",
    "Using the phugoid model, write a new code to analyze the flight of a paper airplane, with the following conditions:\n",
    "\n",
    "*  Assume $L/D$ of 5.0 (a value close to measurements in Feng et al. 2009)\n",
    "*  For the trim velocity, let's take an average value of 4.9 m/s.\n",
    "*  Find a combination of launch angle and velocity that gives the best distance.\n",
    "*  Think about how you will know when the flight needs to stop ... this will influence how you organize the code.\n",
    "*  How can you check if your answer is realistic?"
   ]
  },
  {
   "cell_type": "markdown",
   "metadata": {},
   "source": [
    "## References"
   ]
  },
  {
   "cell_type": "markdown",
   "metadata": {},
   "source": [
    "* Feng, N. B. et al. _\"On the aerodynamics of paper airplanes\"_, AIAA paper 2009-3958, 27th AIAA Applied Aerodynamics Conference, San Antonio, TX. [PDF](http://www.ntu.edu.sg/home/schluter/pdf/aiaa-2009-3958.pdf)\n",
    "\n",
    "* Simanca, S. R. and Sutherland, S. _\"Mathematical problem-solving with computers,\"_ 2002 course notes, Stony Brook University, chapter 3: [The Art of Phugoid](https://www.math.sunysb.edu/~scott/Book331/Art_Phugoid.html). (Note that there is an error in the figure: sine and cosine are switched.)"
   ]
  },
  {
   "cell_type": "markdown",
   "metadata": {},
   "source": [
    "---\n",
    "\n",
    "###### The cell below loads the style of the notebook."
   ]
  },
  {
   "cell_type": "code",
   "execution_count": 13,
   "metadata": {
    "collapsed": false
   },
   "outputs": [
    {
     "data": {
      "text/html": [
       "<link href='http://fonts.googleapis.com/css?family=Alegreya+Sans:100,300,400,500,700,800,900,100italic,300italic,400italic,500italic,700italic,800italic,900italic' rel='stylesheet' type='text/css'>\n",
       "<link href='http://fonts.googleapis.com/css?family=Arvo:400,700,400italic' rel='stylesheet' type='text/css'>\n",
       "<link href='http://fonts.googleapis.com/css?family=PT+Mono' rel='stylesheet' type='text/css'>\n",
       "<link href='http://fonts.googleapis.com/css?family=Shadows+Into+Light' rel='stylesheet' type='text/css'>\n",
       "<link href='http://fonts.googleapis.com/css?family=Nixie+One' rel='stylesheet' type='text/css'>\n",
       "<style>\n",
       "\n",
       "@font-face {\n",
       "    font-family: \"Computer Modern\";\n",
       "    src: url('http://mirrors.ctan.org/fonts/cm-unicode/fonts/otf/cmunss.otf');\n",
       "}\n",
       "\n",
       "#notebook_panel { /* main background */\n",
       "    background: rgb(245,245,245);\n",
       "}\n",
       "\n",
       "div.cell { /* set cell width */\n",
       "    width: 750px;\n",
       "}\n",
       "\n",
       "div #notebook { /* centre the content */\n",
       "    background: #fff; /* white background for content */\n",
       "    width: 1000px;\n",
       "    margin: auto;\n",
       "    padding-left: 0em;\n",
       "}\n",
       "\n",
       "#notebook li { /* More space between bullet points */\n",
       "    margin-top:0.8em;\n",
       "}\n",
       "\n",
       "/* draw border around running cells */\n",
       "div.cell.border-box-sizing.code_cell.running { \n",
       "    border: 1px solid #111;\n",
       "}\n",
       "\n",
       "/* Put a solid color box around each cell and its output, visually linking them*/\n",
       "div.cell.code_cell {\n",
       "    background-color: rgb(256,256,256); \n",
       "    border-radius: 0px; \n",
       "    padding: 0.5em;\n",
       "    margin-left:1em;\n",
       "    margin-top: 1em;\n",
       "}\n",
       "\n",
       "div.text_cell_render{\n",
       "    font-family: 'Alegreya Sans' sans-serif;\n",
       "    line-height: 140%;\n",
       "    font-size: 125%;\n",
       "    font-weight: 400;\n",
       "    width:600px;\n",
       "    margin-left:auto;\n",
       "    margin-right:auto;\n",
       "}\n",
       "\n",
       "\n",
       "/* Formatting for header cells */\n",
       ".text_cell_render h1 {\n",
       "    font-family: 'Nixie One', serif;\n",
       "    font-style:regular;\n",
       "    font-weight: 400;    \n",
       "    font-size: 45pt;\n",
       "    line-height: 100%;\n",
       "    color: rgb(0,51,102);\n",
       "    margin-bottom: 0.5em;\n",
       "    margin-top: 0.5em;\n",
       "    display: block;\n",
       "}\n",
       "\n",
       ".text_cell_render h2 {\n",
       "    font-family: 'Nixie One', serif;\n",
       "    font-weight: 400;\n",
       "    font-size: 30pt;\n",
       "    line-height: 100%;\n",
       "    color: rgb(0,51,102);\n",
       "    margin-bottom: 0.1em;\n",
       "    margin-top: 0.3em;\n",
       "    display: block;\n",
       "}\t\n",
       "\n",
       ".text_cell_render h3 {\n",
       "    font-family: 'Nixie One', serif;\n",
       "    margin-top:16px;\n",
       "    font-size: 22pt;\n",
       "    font-weight: 600;\n",
       "    margin-bottom: 3px;\n",
       "    font-style: regular;\n",
       "    color: rgb(102,102,0);\n",
       "}\n",
       "\n",
       ".text_cell_render h4 {    /*Use this for captions*/\n",
       "    font-family: 'Nixie One', serif;\n",
       "    font-size: 14pt;\n",
       "    text-align: center;\n",
       "    margin-top: 0em;\n",
       "    margin-bottom: 2em;\n",
       "    font-style: regular;\n",
       "}\n",
       "\n",
       ".text_cell_render h5 {  /*Use this for small titles*/\n",
       "    font-family: 'Nixie One', sans-serif;\n",
       "    font-weight: 400;\n",
       "    font-size: 16pt;\n",
       "    color: rgb(163,0,0);\n",
       "    font-style: italic;\n",
       "    margin-bottom: .1em;\n",
       "    margin-top: 0.8em;\n",
       "    display: block;\n",
       "}\n",
       "\n",
       ".text_cell_render h6 { /*use this for copyright note*/\n",
       "    font-family: 'PT Mono', sans-serif;\n",
       "    font-weight: 300;\n",
       "    font-size: 9pt;\n",
       "    line-height: 100%;\n",
       "    color: grey;\n",
       "    margin-bottom: 1px;\n",
       "    margin-top: 1px;\n",
       "}\n",
       "\n",
       ".CodeMirror{\n",
       "    font-family: \"PT Mono\";\n",
       "    font-size: 90%;\n",
       "}\n",
       "\n",
       "</style>\n",
       "<script>\n",
       "    MathJax.Hub.Config({\n",
       "                        TeX: {\n",
       "                           extensions: [\"AMSmath.js\"],\n",
       "                           equationNumbers: { autoNumber: \"AMS\", useLabelIds: true}\n",
       "                           },\n",
       "                tex2jax: {\n",
       "                    inlineMath: [ ['$','$'], [\"\\\\(\",\"\\\\)\"] ],\n",
       "                    displayMath: [ ['$$','$$'], [\"\\\\[\",\"\\\\]\"] ]\n",
       "                },\n",
       "                displayAlign: 'center', // Change this to 'center' to center equations.\n",
       "                \"HTML-CSS\": {\n",
       "                    styles: {'.MathJax_Display': {\"margin\": 4}}\n",
       "                }\n",
       "        });\n",
       "</script>\n"
      ],
      "text/plain": [
       "<IPython.core.display.HTML object>"
      ]
     },
     "execution_count": 13,
     "metadata": {},
     "output_type": "execute_result"
    }
   ],
   "source": [
    "from IPython.core.display import HTML\n",
    "css_file = '../../styles/numericalmoocstyle.css'\n",
    "HTML(open(css_file, \"r\").read())"
   ]
  },
  {
   "cell_type": "code",
   "execution_count": null,
   "metadata": {
    "collapsed": true
   },
   "outputs": [],
   "source": []
  }
 ],
 "metadata": {
  "kernelspec": {
   "display_name": "Python 3",
   "language": "python",
   "name": "python3"
  },
  "language_info": {
   "codemirror_mode": {
    "name": "ipython",
    "version": 3
   },
   "file_extension": ".py",
   "mimetype": "text/x-python",
   "name": "python",
   "nbconvert_exporter": "python",
   "pygments_lexer": "ipython3",
   "version": "3.4.3"
  }
 },
 "nbformat": 4,
 "nbformat_minor": 0
}
